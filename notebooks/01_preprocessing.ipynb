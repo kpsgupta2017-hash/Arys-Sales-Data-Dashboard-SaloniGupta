{
  "cells": [
    {
      "cell_type": "markdown",
      "metadata": {},
      "source": [
        "# Sales Data Preprocessing Notebook\n",
        "\n",
        "This notebook contains comprehensive data preprocessing steps for the sales data dashboard.\n",
        "\n",
        "## Overview\n",
        "- Load and explore sales data\n",
        "- Handle missing values and duplicates\n",
        "- Normalize categories and extract time features\n",
        "- Save cleaned data for dashboard consumption\n"
      ]
    },
    {
      "cell_type": "code",
      "execution_count": null,
      "metadata": {},
      "outputs": [],
      "source": [
        "# Import required libraries\n",
        "import pandas as pd\n",
        "import numpy as np\n",
        "import matplotlib.pyplot as plt\n",
        "import seaborn as sns\n",
        "from datetime import datetime\n",
        "import warnings\n",
        "warnings.filterwarnings('ignore')\n",
        "\n",
        "# Set display options\n",
        "pd.set_option('display.max_columns', None)\n",
        "pd.set_option('display.width', None)\n",
        "pd.set_option('display.max_colwidth', None)\n",
        "\n",
        "print(\"Libraries imported successfully!\")\n"
      ]
    },
    {
      "cell_type": "markdown",
      "metadata": {},
      "source": [
        "## 1. Load and Explore Data\n"
      ]
    },
    {
      "cell_type": "code",
      "execution_count": null,
      "metadata": {},
      "outputs": [],
      "source": [
        "# Load the sales data\n",
        "df = pd.read_csv('../data/raw/sales_data.csv')\n",
        "\n",
        "print(f\"Dataset shape: {df.shape}\")\n",
        "print(f\"Columns: {list(df.columns)}\")\n",
        "print(\"\\nFirst 5 rows:\")\n",
        "df.head()\n"
      ]
    },
    {
      "cell_type": "code",
      "execution_count": null,
      "metadata": {},
      "outputs": [],
      "source": [
        "# Basic data information\n",
        "print(\"Dataset Info:\")\n",
        "print(df.info())\n",
        "print(\"\\nData Types:\")\n",
        "print(df.dtypes)\n",
        "print(\"\\nMissing Values:\")\n",
        "print(df.isnull().sum())\n",
        "print(\"\\nDuplicate Rows:\")\n",
        "print(f\"Total duplicates: {df.duplicated().sum()}\")\n"
      ]
    },
    {
      "cell_type": "markdown",
      "metadata": {},
      "source": [
        "## 2. Data Cleaning and Preprocessing\n"
      ]
    },
    {
      "cell_type": "code",
      "execution_count": null,
      "metadata": {},
      "outputs": [],
      "source": [
        "# Create a copy for cleaning\n",
        "df_clean = df.copy()\n",
        "\n",
        "# Remove duplicates\n",
        "df_clean = df_clean.drop_duplicates()\n",
        "print(f\"After removing duplicates: {df_clean.shape}\")\n",
        "\n",
        "# Handle missing values\n",
        "print(\"\\nMissing values before cleaning:\")\n",
        "print(df_clean.isnull().sum())\n",
        "\n",
        "# Fill missing values\n",
        "df_clean['CUSTOMERNAME'] = df_clean['CUSTOMERNAME'].fillna('Unknown Customer')\n",
        "df_clean['COUNTRY'] = df_clean['COUNTRY'].fillna('Unknown Country')\n",
        "df_clean['PRODUCTLINE'] = df_clean['PRODUCTLINE'].fillna('Unknown Product')\n",
        "df_clean['STATUS'] = df_clean['STATUS'].fillna('Unknown Status')\n",
        "\n",
        "# For numeric columns, fill with median\n",
        "df_clean['SALES'] = df_clean['SALES'].fillna(df_clean['SALES'].median())\n",
        "df_clean['QUANTITYORDERED'] = df_clean['QUANTITYORDERED'].fillna(df_clean['QUANTITYORDERED'].median())\n",
        "\n",
        "print(\"\\nMissing values after cleaning:\")\n",
        "print(df_clean.isnull().sum())\n"
      ]
    },
    {
      "cell_type": "code",
      "execution_count": null,
      "metadata": {},
      "outputs": [],
      "source": [
        "# Convert ORDERDATE to datetime\n",
        "df_clean['ORDERDATE'] = pd.to_datetime(df_clean['ORDERDATE'], errors='coerce')\n",
        "\n",
        "# Extract time features\n",
        "df_clean['YEAR'] = df_clean['ORDERDATE'].dt.year\n",
        "df_clean['MONTH'] = df_clean['ORDERDATE'].dt.month\n",
        "df_clean['QUARTER'] = df_clean['ORDERDATE'].dt.quarter\n",
        "df_clean['DAY_OF_WEEK'] = df_clean['ORDERDATE'].dt.day_name()\n",
        "df_clean['MONTH_NAME'] = df_clean['ORDERDATE'].dt.month_name()\n",
        "\n",
        "print(\"Time features extracted successfully!\")\n",
        "print(f\"Date range: {df_clean['ORDERDATE'].min()} to {df_clean['ORDERDATE'].max()}\")\n"
      ]
    },
    {
      "cell_type": "code",
      "execution_count": null,
      "metadata": {},
      "outputs": [],
      "source": [
        "# Normalize categorical data\n",
        "df_clean['PRODUCTLINE'] = df_clean['PRODUCTLINE'].str.strip().str.title()\n",
        "df_clean['COUNTRY'] = df_clean['COUNTRY'].str.strip().str.title()\n",
        "df_clean['CUSTOMERNAME'] = df_clean['CUSTOMERNAME'].str.strip().str.title()\n",
        "df_clean['STATUS'] = df_clean['STATUS'].str.strip().str.title()\n",
        "\n",
        "# Ensure numeric columns are properly typed\n",
        "df_clean['SALES'] = pd.to_numeric(df_clean['SALES'], errors='coerce')\n",
        "df_clean['QUANTITYORDERED'] = pd.to_numeric(df_clean['QUANTITYORDERED'], errors='coerce')\n",
        "df_clean['ORDERNUMBER'] = pd.to_numeric(df_clean['ORDERNUMBER'], errors='coerce')\n",
        "\n",
        "print(\"Data normalization completed!\")\n"
      ]
    },
    {
      "cell_type": "markdown",
      "metadata": {},
      "source": [
        "## 3. Data Analysis and Visualization\n"
      ]
    }
  ],
  "metadata": {
    "language_info": {
      "name": "python"
    }
  },
  "nbformat": 4,
  "nbformat_minor": 2
}
